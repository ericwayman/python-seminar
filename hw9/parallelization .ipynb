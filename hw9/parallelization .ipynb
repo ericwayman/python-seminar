{
 "metadata": {
  "name": ""
 },
 "nbformat": 3,
 "nbformat_minor": 0,
 "worksheets": [
  {
   "cells": [
    {
     "cell_type": "code",
     "collapsed": false,
     "input": [
      "###Start 4 engines in the menu before running this code\n",
      "\n",
      "#function definitions\n",
      "def pi_approx(darts):\n",
      "     \"\"\"Computes pi using a simple Monte Carlo Method\n",
      "     input: darts: an integer representing the number of darts thrown\n",
      "     returns:\n",
      "         pi_est: the montecarlo estimate for pi.\n",
      "         execution_time: the time required to compute the answer in serial.\n",
      "     \n",
      "     \"\"\"\n",
      "    #imports\n",
      "    from random import uniform\n",
      "    from math import sqrt\n",
      "    from time import time\n",
      "    \n",
      "    darts_in_circ = 0\n",
      "\n",
      "    #use time to record the dart throwing simulation\n",
      "    #record start time of loop\n",
      "    start_time = time()\n",
      "    for n in range(int(darts)):\n",
      "        x,y = uniform(0,2),uniform(0,2)\n",
      "        if sqrt((x-1)**2+(y-1)**2) <= 1:\n",
      "            darts_in_circ+=1\n",
      "    #record time after loop completes\n",
      "    end_time = time()\n",
      "    execution_time = end_time - start_time\n",
      "    pi_est = 4*(darts_in_circ/float(darts))\n",
      "    return pi_est, execution_time\n",
      "\n",
      "def sample_circle(darts):\n",
      "    \"\"\"input: darts: an integer representing the number of darts thrown\n",
      "    returns: darts_in_circ: an integer representing the number of darts landing inside the circle\n",
      "    \n",
      "    \"\"\"\n",
      "    #imports\n",
      "    from random import uniform\n",
      "    from math import sqrt\n",
      "    darts_in_circ = 0\n",
      "    for n in range(int(darts)):\n",
      "        x,y = uniform(0,2),uniform(0,2)\n",
      "        if sqrt((x-1)**2+(y-1)**2) <= 1:\n",
      "            darts_in_circ+=1\n",
      "    return darts_in_circ\n",
      " \n",
      "def IPcluster_pi_approx(darts,rc):\n",
      "    \"\"\"Computes pi using a simple Monte Carlo but speeds up computation time with an IP cluster\n",
      "    Takes in two arguments:\n",
      "    darts: an integer representing the number of darts\n",
      "    rc = an ipython parallel.Client() object on which the computations will be computed\n",
      "    returns:\n",
      "    pi_est: The estimate of pi compute\n",
      "    execution_time: the time in seconds required to compute all the darts thrown\n",
      "    \"\"\"\n",
      "    #imports\n",
      "    from random import uniform\n",
      "    from math import sqrt\n",
      "    from time import time\n",
      "    \n",
      "    dview = rc[:]\n",
      "    num_machines = len(dview)\n",
      "    \n",
      "    #record the starting time\n",
      "    start_time = time()\n",
      "    darts_in_circles = sum(dview.map_sync(sample_circle, num_machines*[darts/num_machines]))\n",
      "    #record the time when computed all the darts\n",
      "    end_time = time()\n",
      "    execution_time = end_time - start_time\n",
      "    pi_est = 4.*(darts_in_circles/float(darts))\n",
      "    return pi_est, execution_time\n",
      "\n",
      "def multiproc_pi_approx(darts):\n",
      "        \"\"\"Computes pi using a simple Monte Carlo but speeds up computation time with multiprocessing\n",
      "        Takes in two arguments:\n",
      "    darts: an integer representing the number of darts\n",
      "    rc = an ipython parallel.Client() object on which the computations will be computed\n",
      "    returns:\n",
      "    pi_est: The estimate of pi compute\n",
      "    execution_time: the time in seconds required to compute all the darts thrown\n",
      "    \"\"\"\n",
      "    from multiprocessing import Pool, cpu_count\n",
      "    from time import time\n",
      "    numprocessors = cpu_count()\n",
      "    start_time = time()\n",
      "    p=Pool(numprocessors)\n",
      "    result = p.map_async(sample_circle,[darts/numprocessors]*numprocessors)\n",
      "    #do we want map or map_async here?\n",
      "    darts_in_circles = sum(result.get())\n",
      "    end_time = time()\n",
      "    #darts_in_circles = sum(result)\n",
      "    execution_time = end_time - start_time\n",
      "    pi_est = 4.*(darts_in_circles/float(darts))\n",
      "    return pi_est,execution_time"
     ],
     "language": "python",
     "metadata": {},
     "outputs": [],
     "prompt_number": 1
    },
    {
     "cell_type": "code",
     "collapsed": false,
     "input": [
      "#Ipython cluster\n",
      "import subprocess\n",
      "from IPython import parallel\n",
      "#start up 4 engines for the ipython cluster\n",
      "#subprocess.call(['ipcluster', 'start',  '-n',  '4'])\n",
      "rc = parallel.Client()"
     ],
     "language": "python",
     "metadata": {},
     "outputs": [],
     "prompt_number": 2
    },
    {
     "cell_type": "code",
     "collapsed": false,
     "input": [
      "#Compute execution time and simulation rates for plotting\n",
      "#simulation rate = num_darts/time\n",
      "num_trials = 8\n",
      "darts = [10**i for i in range(num_trials)]\n",
      "serial_times=[]\n",
      "serial_sim_rates=[]\n",
      "IP_clust_times=[]\n",
      "IP_clust_sim_rates=[]\n",
      "multi_proc_times=[]\n",
      "multi_proc_sim_rates=[]\n",
      "for i in range(num_trials):\n",
      "    pie,serial_time = pi_approx(10**i)\n",
      "    serial_times.append(serial_time)\n",
      "    serial_sim_rates.append(10**i/serial_time)\n",
      "    pie,clust_time = IPcluster_pi_approx(10**i,rc)\n",
      "    IP_clust_times.append(clust_time)\n",
      "    IP_clust_sim_rates.append(10**i/clust_time)\n",
      "    pie,mult_proc_time = multiproc_pi_approx(10**i)\n",
      "    multi_proc_times.append(mult_proc_time)\n",
      "    multi_proc_sim_rates.append(10**i/mult_proc_time)"
     ],
     "language": "python",
     "metadata": {},
     "outputs": [],
     "prompt_number": 3
    },
    {
     "cell_type": "code",
     "collapsed": false,
     "input": [
      "print serial_times\n",
      "print IP_clust_times\n",
      "print multi_proc_times"
     ],
     "language": "python",
     "metadata": {},
     "outputs": [
      {
       "output_type": "stream",
       "stream": "stdout",
       "text": [
        "[2.6941299438476562e-05, 7.700920104980469e-05, 0.000244140625, 0.0023250579833984375, 0.039227962493896484, 0.2336270809173584, 2.38883113861084, 23.187560081481934]\n",
        "[0.017328977584838867, 0.018759965896606445, 0.021020889282226562, 0.024230003356933594, 0.024018049240112305, 0.10770606994628906, 0.8661251068115234, 10.06452202796936]\n",
        "[0.02149796485900879, 0.015697002410888672, 0.014062166213989258, 0.017704010009765625, 0.0201108455657959, 0.10487890243530273, 0.8358380794525146, 11.18749213218689]\n"
       ]
      }
     ],
     "prompt_number": 4
    },
    {
     "cell_type": "code",
     "collapsed": false,
     "input": [
      "#make the plot\n",
      "%pylab inline\n",
      "import matplotlib.pyplot as plt\n",
      "fig = plt.figure()\n",
      "ax = fig.add_subplot(1,1,1)\n",
      "ax2=ax.twinx()\n",
      "ax.set_title('1.8 GHz Intel Cor i7, 4 cores')\n",
      "ax.set_xlabel(\"Darts Thrown\")\n",
      "ax.set_ylabel(\"Execution Time (seconds), solid line\")\n",
      "ax2.set_ylabel(\"Simulation Rate (darts/second), dashed line\")\n",
      "ax2.yaxis.set_label_position(\"right\")\n",
      "#plot the data\n",
      "lns1=ax.plot(darts,serial_times,label = 'Simple',linewidth=2,color='red')\n",
      "lns2=ax.plot(darts,multi_proc_times,label = 'Multiprocessing',linewidth=2,color='blue')\n",
      "lns3=ax.plot(darts,IP_clust_times,label= 'IPcluster',linewidth=2,color = 'green')\n",
      "\n",
      "dsh1=ax2.plot(darts, serial_sim_rates,linewidth=2,color='red',linestyle='--')\n",
      "dsh2 = ax2.plot(darts, multi_proc_sim_rates,linewidth=2,color='blue',linestyle='--')\n",
      "dsh2 = ax2.plot(darts, IP_clust_sim_rates,linewidth=2,color='green',linestyle='--')\n",
      "#make the legend\n",
      "lns = lns1+lns2+lns3\n",
      "labels = [l.get_label() for l in lns]\n",
      "leg = ax.legend(lns,labels,loc=6,prop={'size':6})\n",
      "#Make the axes log scale\n",
      "ax.set_yscale('log')\n",
      "ax.set_xscale('log')\n",
      "ax2.set_yscale('log')\n",
      "plt.show()\n",
      "\n",
      "#save the figure\n",
      "plt.savefig('par_plots')"
     ],
     "language": "python",
     "metadata": {},
     "outputs": [
      {
       "output_type": "stream",
       "stream": "stdout",
       "text": [
        "Populating the interactive namespace from numpy and matplotlib\n"
       ]
      },
      {
       "output_type": "stream",
       "stream": "stderr",
       "text": [
        "WARNING: pylab import has clobbered these variables: ['pie', 'rc']\n",
        "`%pylab --no-import-all` prevents importing * from pylab and numpy\n"
       ]
      },
      {
       "metadata": {},
       "output_type": "display_data",
       "png": "[encoded data removed]",
       "text": [
        "<matplotlib.figure.Figure at 0x1070cda10>"
       ]
      },
      {
       "metadata": {},
       "output_type": "display_data",
       "text": [
        "<matplotlib.figure.Figure at 0x11fb80bd0>"
       ]
      }
     ],
     "prompt_number": 5
    },
    {
     "cell_type": "code",
     "collapsed": false,
     "input": [
      "#shutdown the machines\n",
      "subprocess.call(['ipcluster', 'stop'])"
     ],
     "language": "python",
     "metadata": {},
     "outputs": [
      {
       "metadata": {},
       "output_type": "pyout",
       "prompt_number": 6,
       "text": [
        "11"
       ]
      }
     ],
     "prompt_number": 6
    },
    {
     "cell_type": "code",
     "collapsed": false,
     "input": [],
     "language": "python",
     "metadata": {},
     "outputs": []
    }
   ],
   "metadata": {}
  }
 ]
}