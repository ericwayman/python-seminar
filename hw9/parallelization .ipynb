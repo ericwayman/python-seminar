{
 "metadata": {
  "name": ""
 },
 "nbformat": 3,
 "nbformat_minor": 0,
 "worksheets": [
  {
   "cells": [
    {
     "cell_type": "code",
     "collapsed": false,
     "input": [
      "\n",
      "\n",
      "#function definitions\n",
      "def pi_approx(darts):\n",
      "    #imports\n",
      "    from random import uniform\n",
      "    from math import sqrt\n",
      "    from time import time\n",
      "    \n",
      "    darts_in_circ = 0\n",
      "\n",
      "    #use time to record the dart throwing simulation\n",
      "    #record start time of loop\n",
      "    start_time = time()\n",
      "    for n in range(int(darts)):\n",
      "        x,y = uniform(0,2),uniform(0,2)\n",
      "        if sqrt((x-1)**2+(y-1)**2) <= 1:\n",
      "            darts_in_circ+=1\n",
      "    #record time after loop completes\n",
      "    end_time = time()\n",
      "    execution_time = end_time - start_time\n",
      "    pi_est = 4*(darts_in_circ/float(darts))\n",
      "    return pi_est, execution_time\n",
      "\n",
      "def sample_circle(darts):\n",
      "    #imports\n",
      "    from random import uniform\n",
      "    from math import sqrt\n",
      "    darts_in_circ = 0\n",
      "    for n in range(int(darts)):\n",
      "        x,y = uniform(0,2),uniform(0,2)\n",
      "        if sqrt((x-1)**2+(y-1)**2) <= 1:\n",
      "            darts_in_circ+=1\n",
      "    return darts_in_circ\n",
      " \n",
      "def IPcluster_pi_approx(darts,rc):\n",
      "    \"\"\"Takes in two arguments:\n",
      "    darts: an integer representing the number of darts\n",
      "    rc = an ipython parallel.Client() object on which the computations will be computed\n",
      "    returns:\n",
      "    pi_est: The estimate of pi compute\n",
      "    execution_time: the time in seconds required to compute all the darts thrown\n",
      "    \"\"\"\n",
      "    #imports\n",
      "    from random import uniform\n",
      "    from math import sqrt\n",
      "    from time import time\n",
      "    \n",
      "    dview = rc[:]\n",
      "    num_machines = len(dview)\n",
      "    \n",
      "    #record the starting time\n",
      "    start_time = time()\n",
      "    darts_in_circles = sum(dview.map_sync(sample_circle, num_machines*[darts/num_machines]))\n",
      "    #record the time when computed all the darts\n",
      "    end_time = time()\n",
      "    execution_time = end_time - start_time\n",
      "    pi_est = 4.*(darts_in_circles/float(darts))\n",
      "    return pi_est, execution_time"
     ],
     "language": "python",
     "metadata": {},
     "outputs": [],
     "prompt_number": 7
    },
    {
     "cell_type": "code",
     "collapsed": false,
     "input": [
      "#function calls\n",
      "\n",
      "#serialization\n",
      "pi_est,execution_time = pi_approx(10)\n",
      "print pi_est\n",
      "print execution_time"
     ],
     "language": "python",
     "metadata": {},
     "outputs": [
      {
       "output_type": "stream",
       "stream": "stdout",
       "text": [
        "3.6\n",
        "8.48770141602e-05\n"
       ]
      }
     ],
     "prompt_number": 8
    },
    {
     "cell_type": "code",
     "collapsed": false,
     "input": [
      "#Ipython cluster\n",
      "import subprocess\n",
      "from IPython import parallel\n",
      "#start up 4 engines\n",
      "subprocess.call(['ipcluster', 'start',  '-n',  '4'])\n",
      "rc = parallel.Client()\n",
      "IPclust_pi_est, IPclust_execution_time = IPcluster_pi_approx(100000,rc)\n",
      "#shut down the engines\n",
      "#subprocess.call(['ipcluster', 'stop'])\n",
      "print IPclust_pi_est\n",
      "print IPclust_execution_time"
     ],
     "language": "python",
     "metadata": {},
     "outputs": [
      {
       "output_type": "stream",
       "stream": "stdout",
       "text": [
        "3.13364\n",
        "0.0939719676971\n"
       ]
      }
     ],
     "prompt_number": 9
    },
    {
     "cell_type": "code",
     "collapsed": false,
     "input": [
      "def multiproc_pi_approx(darts):\n",
      "    from multiprocessing import Pool, cpu_count\n",
      "    from time import time\n",
      "    numprocessors = cpu_count()\n",
      "    start_time = time()\n",
      "    p=Pool(numprocessors)\n",
      "    result = p.map_async(sample_circle,[darts/numprocessors]*numprocessors)\n",
      "    #do we want map or map_async here?\n",
      "    end_time = time()\n",
      "    darts_in_circles = sum(result.get())\n",
      "    #darts_in_circles = sum(result)\n",
      "    execution_time = end_time - start_time\n",
      "    pi_est = 4.*(darts_in_circles/float(darts))\n",
      "    return pi_est,execution_time"
     ],
     "language": "python",
     "metadata": {},
     "outputs": [],
     "prompt_number": 51
    },
    {
     "cell_type": "code",
     "collapsed": false,
     "input": [
      "pi_est,execution_time = multiproc_pi_approx(10000000)\n",
      "print pi_est\n",
      "print execution_time"
     ],
     "language": "python",
     "metadata": {},
     "outputs": [
      {
       "ename": "OSError",
       "evalue": "[Errno 24] Too many open files",
       "output_type": "pyerr",
       "traceback": [
        "\u001b[0;31m---------------------------------------------------------------------------\u001b[0m\n\u001b[0;31mOSError\u001b[0m                                   Traceback (most recent call last)",
        "\u001b[0;32m<ipython-input-52-f9c0485b4090>\u001b[0m in \u001b[0;36m<module>\u001b[0;34m()\u001b[0m\n\u001b[0;32m----> 1\u001b[0;31m \u001b[0mpi_est\u001b[0m\u001b[0;34m,\u001b[0m\u001b[0mexecution_time\u001b[0m \u001b[0;34m=\u001b[0m \u001b[0mmultiproc_pi_approx\u001b[0m\u001b[0;34m(\u001b[0m\u001b[0;36m10000000\u001b[0m\u001b[0;34m)\u001b[0m\u001b[0;34m\u001b[0m\u001b[0m\n\u001b[0m\u001b[1;32m      2\u001b[0m \u001b[0;32mprint\u001b[0m \u001b[0mpi_est\u001b[0m\u001b[0;34m\u001b[0m\u001b[0m\n\u001b[1;32m      3\u001b[0m \u001b[0;32mprint\u001b[0m \u001b[0mexecution_time\u001b[0m\u001b[0;34m\u001b[0m\u001b[0m\n",
        "\u001b[0;32m<ipython-input-51-02e3f64ec2db>\u001b[0m in \u001b[0;36mmultiproc_pi_approx\u001b[0;34m(darts)\u001b[0m\n\u001b[1;32m      2\u001b[0m     \u001b[0;32mfrom\u001b[0m \u001b[0mmultiprocessing\u001b[0m \u001b[0;32mimport\u001b[0m \u001b[0mPool\u001b[0m\u001b[0;34m,\u001b[0m \u001b[0mcpu_count\u001b[0m\u001b[0;34m\u001b[0m\u001b[0m\n\u001b[1;32m      3\u001b[0m     \u001b[0;32mfrom\u001b[0m \u001b[0mtime\u001b[0m \u001b[0;32mimport\u001b[0m \u001b[0mtime\u001b[0m\u001b[0;34m\u001b[0m\u001b[0m\n\u001b[0;32m----> 4\u001b[0;31m     \u001b[0mnumprocessors\u001b[0m \u001b[0;34m=\u001b[0m \u001b[0mcpu_count\u001b[0m\u001b[0;34m(\u001b[0m\u001b[0;34m)\u001b[0m\u001b[0;34m\u001b[0m\u001b[0m\n\u001b[0m\u001b[1;32m      5\u001b[0m     \u001b[0mstart_time\u001b[0m \u001b[0;34m=\u001b[0m \u001b[0mtime\u001b[0m\u001b[0;34m(\u001b[0m\u001b[0;34m)\u001b[0m\u001b[0;34m\u001b[0m\u001b[0m\n\u001b[1;32m      6\u001b[0m     \u001b[0mp\u001b[0m\u001b[0;34m=\u001b[0m\u001b[0mPool\u001b[0m\u001b[0;34m(\u001b[0m\u001b[0mnumprocessors\u001b[0m\u001b[0;34m)\u001b[0m\u001b[0;34m\u001b[0m\u001b[0m\n",
        "\u001b[0;32m/Users/waymaniac/anaconda/python.app/Contents/lib/python2.7/multiprocessing/__init__.pyc\u001b[0m in \u001b[0;36mcpu_count\u001b[0;34m()\u001b[0m\n\u001b[1;32m    121\u001b[0m             \u001b[0mcomm\u001b[0m \u001b[0;34m=\u001b[0m \u001b[0;34m'/usr'\u001b[0m \u001b[0;34m+\u001b[0m \u001b[0mcomm\u001b[0m\u001b[0;34m\u001b[0m\u001b[0m\n\u001b[1;32m    122\u001b[0m         \u001b[0;32mtry\u001b[0m\u001b[0;34m:\u001b[0m\u001b[0;34m\u001b[0m\u001b[0m\n\u001b[0;32m--> 123\u001b[0;31m             \u001b[0;32mwith\u001b[0m \u001b[0mos\u001b[0m\u001b[0;34m.\u001b[0m\u001b[0mpopen\u001b[0m\u001b[0;34m(\u001b[0m\u001b[0mcomm\u001b[0m\u001b[0;34m)\u001b[0m \u001b[0;32mas\u001b[0m \u001b[0mp\u001b[0m\u001b[0;34m:\u001b[0m\u001b[0;34m\u001b[0m\u001b[0m\n\u001b[0m\u001b[1;32m    124\u001b[0m                 \u001b[0mnum\u001b[0m \u001b[0;34m=\u001b[0m \u001b[0mint\u001b[0m\u001b[0;34m(\u001b[0m\u001b[0mp\u001b[0m\u001b[0;34m.\u001b[0m\u001b[0mread\u001b[0m\u001b[0;34m(\u001b[0m\u001b[0;34m)\u001b[0m\u001b[0;34m)\u001b[0m\u001b[0;34m\u001b[0m\u001b[0m\n\u001b[1;32m    125\u001b[0m         \u001b[0;32mexcept\u001b[0m \u001b[0mValueError\u001b[0m\u001b[0;34m:\u001b[0m\u001b[0;34m\u001b[0m\u001b[0m\n",
        "\u001b[0;31mOSError\u001b[0m: [Errno 24] Too many open files"
       ]
      }
     ],
     "prompt_number": 52
    },
    {
     "cell_type": "code",
     "collapsed": false,
     "input": [],
     "language": "python",
     "metadata": {},
     "outputs": [
      {
       "metadata": {},
       "output_type": "pyout",
       "prompt_number": 38,
       "text": [
        "780"
       ]
      }
     ],
     "prompt_number": 38
    },
    {
     "cell_type": "code",
     "collapsed": false,
     "input": [],
     "language": "python",
     "metadata": {},
     "outputs": []
    }
   ],
   "metadata": {}
  }
 ]
}