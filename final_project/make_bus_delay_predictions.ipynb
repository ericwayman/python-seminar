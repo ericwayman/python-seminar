{
 "metadata": {
  "name": ""
 },
 "nbformat": 3,
 "nbformat_minor": 0,
 "worksheets": [
  {
   "cells": [
    {
     "cell_type": "code",
     "collapsed": false,
     "input": [
      "#imports\n",
      "import pandas as pd\n",
      "import sqlite3\n",
      "import pandas.io.sql as sql\n",
      "import numpy as np\n",
      "\n",
      "from sklearn import tree\n",
      "from random import shuffle"
     ],
     "language": "python",
     "metadata": {},
     "outputs": [],
     "prompt_number": 1
    },
    {
     "cell_type": "code",
     "collapsed": false,
     "input": [
      "connection = sqlite3.connect('bus_arrival.db')\n",
      "df= sql.read_frame(sql='SELECT * FROM bus_prediction_data', con=connection)"
     ],
     "language": "python",
     "metadata": {},
     "outputs": [],
     "prompt_number": 2
    },
    {
     "cell_type": "code",
     "collapsed": false,
     "input": [
      "def make_delay_pred(df,lag,tree_depth=30):\n",
      "    \"\"\"inputs: df: a data frame containing data for dely predictions\n",
      "                lag: the number of stops we're predicting in advance\n",
      "                tree_depth: the max depth of the regression tree\n",
      "        Fits a regression tree to predict delay using the features\n",
      "        'demand','%i_pred_delay' %lag, and'%i_prev_stop_delay' \n",
      "        returns the tree object and the L2_loss of the predictions when using\n",
      "        a randomly selected half of the data for training and the otherhalf for testing.\n",
      "    \n",
      "    \"\"\"\n",
      "    #trim the data frame to select the relevant fields\n",
      "    df = df[['delay','demand','%i_pred_delay' %lag,'%i_prev_stop_delay' %lag]]\n",
      "    #drop the missing values\n",
      "    df = df.dropna(axis=0)\n",
      "    indices = np.arange(len(df.index))\n",
      "    shuffle(indices)\n",
      "    train = len(indices)/2\n",
      "    train_ind = indices[:train]\n",
      "    test_ind = indices[train:]\n",
      "    \n",
      "    #select test and training data.\n",
      "    Y = np.asarray(df['delay'].tolist())\n",
      "    X = df[['demand','%i_pred_delay' %lag,'%i_prev_stop_delay' %lag]].values\n",
      "    Xtr = X[train_ind]\n",
      "    Xte = X[test_ind]\n",
      "    Ytr = Y[train_ind]\n",
      "    Yte = Y[test_ind]\n",
      "    \n",
      "    #make the regression tree \n",
      "    rgtr = tree.DecisionTreeRegressor(max_depth=tree_depth)\n",
      "    #train the model\n",
      "    rgtr = rgtr.fit(Xtr,Ytr)\n",
      "    test_preds = rgtr.predict(Xte)\n",
      "    L2_loss = np.linalg.norm(Yte-test_preds)/np.linalg.norm(Yte)\n",
      "    \n",
      "    return rgtr,L2_loss\n"
     ],
     "language": "python",
     "metadata": {},
     "outputs": [],
     "prompt_number": 3
    },
    {
     "cell_type": "code",
     "collapsed": false,
     "input": [
      "#Compute the L2 loss when predicting 1,2,3 and 4 stations in advance\n",
      "#there are no valid data points for predictions 5+ stations ahead\n",
      "#might be some bugs that still need to be corrected\n",
      "L2_loss = 5*[0]\n",
      "for lag in np.arange(1,5):\n",
      "    rgtr,loss = make_delay_pred(df,lag,tree_depth=30)\n",
      "    L2_loss[lag] = loss\n",
      "L2_loss"
     ],
     "language": "python",
     "metadata": {},
     "outputs": [
      {
       "metadata": {},
       "output_type": "pyout",
       "prompt_number": 4,
       "text": [
        "[0,\n",
        " 0.16513195930368907,\n",
        " 0.21178489137153508,\n",
        " 0.59318031605353538,\n",
        " 0.84979729432196094]"
       ]
      }
     ],
     "prompt_number": 4
    },
    {
     "cell_type": "code",
     "collapsed": false,
     "input": [
      "#average the loss over 100 trials\n",
      "L2_loss = 5*[0]\n",
      "num_trials = 100\n",
      "for trial in np.arange(0,num_trials):\n",
      "    for lag in np.arange(1,5):\n",
      "        rgtr,loss = make_delay_pred(df,lag,tree_depth=30)\n",
      "        L2_loss[lag] += loss\n",
      "avg_loss = np.array(L2_loss)/float(num_trials)\n",
      "avg_loss"
     ],
     "language": "python",
     "metadata": {},
     "outputs": [
      {
       "metadata": {},
       "output_type": "pyout",
       "prompt_number": 5,
       "text": [
        "array([ 0.        ,  0.17003617,  0.23929689,  0.38183709,  0.70948685])"
       ]
      }
     ],
     "prompt_number": 5
    },
    {
     "cell_type": "code",
     "collapsed": false,
     "input": [],
     "language": "python",
     "metadata": {},
     "outputs": []
    }
   ],
   "metadata": {}
  }
 ]
}